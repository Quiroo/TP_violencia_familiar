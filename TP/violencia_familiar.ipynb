{
 "cells": [
  {
   "cell_type": "code",
   "execution_count": 1,
   "metadata": {},
   "outputs": [
    {
     "data": {
      "text/plain": [
       "'C:\\\\Users\\\\60068779\\\\Desktop\\\\data_science\\\\clase_06-master'"
      ]
     },
     "execution_count": 1,
     "metadata": {},
     "output_type": "execute_result"
    }
   ],
   "source": [
    "pwd"
   ]
  },
  {
   "cell_type": "code",
   "execution_count": 17,
   "metadata": {},
   "outputs": [],
   "source": [
    "import pandas as pd\n",
    "import matplotlib.pyplot as plt\n",
    "%matplotlib inline\n",
    "import seaborn as sns\n",
    "from IPython.display import Image"
   ]
  },
  {
   "cell_type": "markdown",
   "metadata": {},
   "source": [
    "## Importamos data sets por año"
   ]
  },
  {
   "cell_type": "markdown",
   "metadata": {},
   "source": [
    "2017"
   ]
  },
  {
   "cell_type": "code",
   "execution_count": 3,
   "metadata": {},
   "outputs": [
    {
     "data": {
      "text/plain": [
       "(9888, 16)"
      ]
     },
     "execution_count": 3,
     "metadata": {},
     "output_type": "execute_result"
    }
   ],
   "source": [
    "#lavf = llamados atendidos violencia familiar\n",
    "\n",
    "\n",
    "lavf17 = pd.read_csv('C:/Users/60068779/Desktop/data_science/TP/llamados-atendidos-violencia-familiar-2017.csv')\n",
    "lavf17.shape"
   ]
  },
  {
   "cell_type": "code",
   "execution_count": 4,
   "metadata": {},
   "outputs": [
    {
     "data": {
      "text/plain": [
       "Index(['caso_id', 'llamante_quien_llama', 'llamante_genero',\n",
       "       'llamante_vinculo_ninios_presentes', 'violencia_tipo', 'victima_edad',\n",
       "       'victima_rango_etario', 'victima_genero', 'victima_cantidad',\n",
       "       'agresor_cantidad', 'agresor_genero', 'agresor_relacion_victima',\n",
       "       'llamado_derivacion', 'llamado_fecha_hora', 'llamado_provincia',\n",
       "       'llamado_provincia_indec_id'],\n",
       "      dtype='object')"
      ]
     },
     "execution_count": 4,
     "metadata": {},
     "output_type": "execute_result"
    }
   ],
   "source": [
    "lavf17.columns"
   ]
  },
  {
   "cell_type": "code",
   "execution_count": 19,
   "metadata": {},
   "outputs": [
    {
     "data": {
      "text/html": [
       "<div>\n",
       "<style scoped>\n",
       "    .dataframe tbody tr th:only-of-type {\n",
       "        vertical-align: middle;\n",
       "    }\n",
       "\n",
       "    .dataframe tbody tr th {\n",
       "        vertical-align: top;\n",
       "    }\n",
       "\n",
       "    .dataframe thead th {\n",
       "        text-align: right;\n",
       "    }\n",
       "</style>\n",
       "<table border=\"1\" class=\"dataframe\">\n",
       "  <thead>\n",
       "    <tr style=\"text-align: right;\">\n",
       "      <th></th>\n",
       "      <th>caso_id</th>\n",
       "      <th>llamante_descripcion</th>\n",
       "      <th>llamante_genero</th>\n",
       "      <th>llamante_vinculo_ninios_presentes</th>\n",
       "      <th>violencia_tipo</th>\n",
       "      <th>victima_edad</th>\n",
       "      <th>victima_rango_etario</th>\n",
       "      <th>victima_genero</th>\n",
       "      <th>victima_cantidad</th>\n",
       "      <th>agresor_cantidad</th>\n",
       "      <th>agresor_genero</th>\n",
       "      <th>agresor_relacion_victima</th>\n",
       "      <th>llamado_derivacion</th>\n",
       "      <th>llamado_fecha_hora</th>\n",
       "      <th>llamado_provincia</th>\n",
       "      <th>llamado_provincia_indec_id</th>\n",
       "    </tr>\n",
       "  </thead>\n",
       "  <tbody>\n",
       "    <tr>\n",
       "      <th>0</th>\n",
       "      <td>344552</td>\n",
       "      <td>Comisaría</td>\n",
       "      <td>Masculino</td>\n",
       "      <td>Otro no familiar</td>\n",
       "      <td>Física</td>\n",
       "      <td>27</td>\n",
       "      <td>18 a 29 años</td>\n",
       "      <td>Femenino</td>\n",
       "      <td>3</td>\n",
       "      <td>1.0</td>\n",
       "      <td>Masculino</td>\n",
       "      <td>Espos@/compañer@ actual de la víctima</td>\n",
       "      <td>La víctima no aceptó la intervención de Equipo...</td>\n",
       "      <td>2017-01-01 01:37:54</td>\n",
       "      <td>Ciudad Autónoma de Buenos Aires</td>\n",
       "      <td>2</td>\n",
       "    </tr>\n",
       "    <tr>\n",
       "      <th>1</th>\n",
       "      <td>344553</td>\n",
       "      <td>Comisaría</td>\n",
       "      <td>Femenino</td>\n",
       "      <td>Sin datos</td>\n",
       "      <td>Física</td>\n",
       "      <td>Sin Datos</td>\n",
       "      <td>Sin Datos</td>\n",
       "      <td>Femenino</td>\n",
       "      <td>2</td>\n",
       "      <td>1.0</td>\n",
       "      <td>Masculino</td>\n",
       "      <td>Herman@ de la victima</td>\n",
       "      <td>Llamante solicitó información y/o orientación</td>\n",
       "      <td>2017-01-01 06:42:25</td>\n",
       "      <td>Ciudad Autónoma de Buenos Aires</td>\n",
       "      <td>2</td>\n",
       "    </tr>\n",
       "  </tbody>\n",
       "</table>\n",
       "</div>"
      ],
      "text/plain": [
       "   caso_id llamante_descripcion llamante_genero  \\\n",
       "0   344552            Comisaría       Masculino   \n",
       "1   344553            Comisaría        Femenino   \n",
       "\n",
       "  llamante_vinculo_ninios_presentes violencia_tipo victima_edad  \\\n",
       "0                  Otro no familiar         Física           27   \n",
       "1                         Sin datos         Física    Sin Datos   \n",
       "\n",
       "  victima_rango_etario victima_genero victima_cantidad  agresor_cantidad  \\\n",
       "0         18 a 29 años       Femenino                3               1.0   \n",
       "1            Sin Datos       Femenino                2               1.0   \n",
       "\n",
       "  agresor_genero               agresor_relacion_victima  \\\n",
       "0      Masculino  Espos@/compañer@ actual de la víctima   \n",
       "1      Masculino                  Herman@ de la victima   \n",
       "\n",
       "                                  llamado_derivacion   llamado_fecha_hora  \\\n",
       "0  La víctima no aceptó la intervención de Equipo...  2017-01-01 01:37:54   \n",
       "1      Llamante solicitó información y/o orientación  2017-01-01 06:42:25   \n",
       "\n",
       "                 llamado_provincia  llamado_provincia_indec_id  \n",
       "0  Ciudad Autónoma de Buenos Aires                           2  \n",
       "1  Ciudad Autónoma de Buenos Aires                           2  "
      ]
     },
     "execution_count": 19,
     "metadata": {},
     "output_type": "execute_result"
    }
   ],
   "source": [
    "#modificamos el segundo indice para que coincida con los demas data sets.\n",
    "\n",
    "lavf17.columns = ['caso_id', 'llamante_descripcion', 'llamante_genero',\n",
    "       'llamante_vinculo_ninios_presentes', 'violencia_tipo', 'victima_edad',\n",
    "       'victima_rango_etario', 'victima_genero', 'victima_cantidad',\n",
    "       'agresor_cantidad', 'agresor_genero', 'agresor_relacion_victima',\n",
    "       'llamado_derivacion', 'llamado_fecha_hora', 'llamado_provincia',\n",
    "       'llamado_provincia_indec_id']\n",
    "\n",
    "\n",
    "lavf17.head(2)"
   ]
  },
  {
   "cell_type": "markdown",
   "metadata": {},
   "source": [
    "2018"
   ]
  },
  {
   "cell_type": "code",
   "execution_count": 18,
   "metadata": {},
   "outputs": [
    {
     "data": {
      "text/plain": [
       "(734, 16)"
      ]
     },
     "execution_count": 18,
     "metadata": {},
     "output_type": "execute_result"
    }
   ],
   "source": [
    "#Importamos data set 2018\n",
    "lavf1801 = pd.read_csv('C:/Users/60068779/Desktop/data_science/TP/llamados-atendidos-violencia-familiar-201801.csv')\n",
    "lavf1802 = pd.read_csv('C:/Users/60068779/Desktop/data_science/TP/llamados-atendidos-violencia-familiar-201802.csv')\n",
    "lavf1803 = pd.read_csv('C:/Users/60068779/Desktop/data_science/TP/llamados-atendidos-violencia-familiar-201803.csv')\n",
    "lavf1804 = pd.read_csv('C:/Users/60068779/Desktop/data_science/TP/llamados-atendidos-violencia-familiar-201804.csv')\n",
    "lavf1805 = pd.read_csv('C:/Users/60068779/Desktop/data_science/TP/llamados-atendidos-violencia-familiar-201805.csv')\n",
    "lavf1806 = pd.read_csv('C:/Users/60068779/Desktop/data_science/TP/llamados-atendidos-violencia-familiar-201806.csv')\n",
    "lavf1807 = pd.read_csv('C:/Users/60068779/Desktop/data_science/TP/llamados-atendidos-violencia-familiar-201807.csv')\n",
    "lavf1808 = pd.read_csv('C:/Users/60068779/Desktop/data_science/TP/llamados-atendidos-violencia-familiar-201808.csv')\n",
    "lavf1809 = pd.read_csv('C:/Users/60068779/Desktop/data_science/TP/llamados-atendidos-violencia-familiar-201809.csv')\n",
    "lavf1810 = pd.read_csv('C:/Users/60068779/Desktop/data_science/TP/llamados-atendidos-violencia-familiar-201810.csv')\n",
    "lavf1811 = pd.read_csv('C:/Users/60068779/Desktop/data_science/TP/llamados-atendidos-violencia-familiar-201811.csv')\n",
    "lavf1812 = pd.read_csv('C:/Users/60068779/Desktop/data_science/TP/llamados-atendidos-violencia-familiar-201812.csv')\n",
    "\n",
    "lavf1801.shape"
   ]
  },
  {
   "cell_type": "code",
   "execution_count": 7,
   "metadata": {},
   "outputs": [
    {
     "data": {
      "text/plain": [
       "Index(['caso_id', 'llamante_descripcion', 'llamante_genero',\n",
       "       'llamante_vinculo_ninios_presentes', 'violencia_tipo', 'victima_edad',\n",
       "       'victima_rango_etario', 'victima_genero', 'victima_cantidad',\n",
       "       'agresor_cantidad', 'agresor_genero', 'agresor_relacion_victima',\n",
       "       'llamado_derivacion', 'llamado_fecha_hora', 'llamado_provincia',\n",
       "       'llamado_provincia_indec_id'],\n",
       "      dtype='object')"
      ]
     },
     "execution_count": 7,
     "metadata": {},
     "output_type": "execute_result"
    }
   ],
   "source": [
    "lavf1812.columns"
   ]
  },
  {
   "cell_type": "code",
   "execution_count": 8,
   "metadata": {},
   "outputs": [
    {
     "data": {
      "text/plain": [
       "(1303, 16)"
      ]
     },
     "execution_count": 8,
     "metadata": {},
     "output_type": "execute_result"
    }
   ],
   "source": [
    "#Importamos data set 2019\n",
    "lavf1901 = pd.read_csv('C:/Users/60068779/Desktop/data_science/TP/llamados-atendidos-violencia-familiar-2019-trimestre-1.csv')\n",
    "lavf1902 = pd.read_csv('C:/Users/60068779/Desktop/data_science/TP/llamados-atendidos-violencia-familiar-2019-trimestre-2.csv')\n",
    "lavf1903 = pd.read_csv('C:/Users/60068779/Desktop/data_science/TP/llamados-atendidos-violencia-familiar-2019-trimestre-3.csv')\n",
    "\n",
    "lavf1903.shape"
   ]
  },
  {
   "cell_type": "code",
   "execution_count": 9,
   "metadata": {},
   "outputs": [
    {
     "data": {
      "text/plain": [
       "Index(['caso_id', 'llamante_descripcion', 'llamante_genero',\n",
       "       'llamante_vinculo_ninios_presentes', 'violencia_tipo', 'victima_edad',\n",
       "       'victima_rango_etario', 'victima_genero', 'victima_cantidad',\n",
       "       'agresor_cantidad', 'agresor_genero', 'agresor_relacion_victima',\n",
       "       'llamado_derivacion', 'llamado_fecha_hora', 'llamado_provincia',\n",
       "       'llamado_provincia_id'],\n",
       "      dtype='object')"
      ]
     },
     "execution_count": 9,
     "metadata": {},
     "output_type": "execute_result"
    }
   ],
   "source": [
    "lavf1903.columns"
   ]
  },
  {
   "cell_type": "code",
   "execution_count": null,
   "metadata": {},
   "outputs": [],
   "source": []
  },
  {
   "cell_type": "code",
   "execution_count": 10,
   "metadata": {},
   "outputs": [],
   "source": [
    "## Verificamos que la segunda columna del data set 2017, es el mismo atributo pero con diferente nombre"
   ]
  },
  {
   "cell_type": "code",
   "execution_count": 11,
   "metadata": {},
   "outputs": [
    {
     "data": {
      "text/plain": [
       "(8054, 16)"
      ]
     },
     "execution_count": 11,
     "metadata": {},
     "output_type": "execute_result"
    }
   ],
   "source": [
    "#Concatenamos data sets 2018\n",
    "\n",
    "lavf18 = pd.concat([lavf1801,lavf1802,lavf1803,lavf1804,lavf1805,lavf1806,lavf1807,lavf1808,lavf1809,lavf1810,lavf1811], axis = 0,  join = \"outer\" , ignore_index = False) #inner or outer join?\n",
    "\n",
    "#Falló Diciembre por que tiene otro nombre en columna ... llamante_quien_llama =! llamante_descripcion\n",
    "#Asignamos llamante_descripcion\n",
    "\n",
    "lavf18.columns = ['caso_id', 'llamante_descripcion', 'llamante_genero',\n",
    "        'llamante_vinculo_ninios_presentes', 'violencia_tipo', 'victima_edad',\n",
    "       'victima_rango_etario', 'victima_genero', 'victima_cantidad',\n",
    "      'agresor_cantidad', 'agresor_genero', 'agresor_relacion_victima',\n",
    "     'llamado_derivacion', 'llamado_fecha_hora', 'llamado_provincia',\n",
    "    'llamado_provincia_indec_id']\n",
    "\n",
    "#Agregamos Diciembre\n",
    "\n",
    "lavf18 = pd.concat([lavf18,lavf1812], axis = 0,  join = \"outer\" , ignore_index = False) #inner or outer join?\n",
    "\n",
    "lavf18.shape\n"
   ]
  },
  {
   "cell_type": "code",
   "execution_count": 12,
   "metadata": {},
   "outputs": [
    {
     "data": {
      "text/html": [
       "<div>\n",
       "<style scoped>\n",
       "    .dataframe tbody tr th:only-of-type {\n",
       "        vertical-align: middle;\n",
       "    }\n",
       "\n",
       "    .dataframe tbody tr th {\n",
       "        vertical-align: top;\n",
       "    }\n",
       "\n",
       "    .dataframe thead th {\n",
       "        text-align: right;\n",
       "    }\n",
       "</style>\n",
       "<table border=\"1\" class=\"dataframe\">\n",
       "  <thead>\n",
       "    <tr style=\"text-align: right;\">\n",
       "      <th></th>\n",
       "      <th>caso_id</th>\n",
       "      <th>llamante_descripcion</th>\n",
       "      <th>llamante_genero</th>\n",
       "      <th>llamante_vinculo_ninios_presentes</th>\n",
       "      <th>violencia_tipo</th>\n",
       "      <th>victima_edad</th>\n",
       "      <th>victima_rango_etario</th>\n",
       "      <th>victima_genero</th>\n",
       "      <th>victima_cantidad</th>\n",
       "      <th>agresor_cantidad</th>\n",
       "      <th>agresor_genero</th>\n",
       "      <th>agresor_relacion_victima</th>\n",
       "      <th>llamado_derivacion</th>\n",
       "      <th>llamado_fecha_hora</th>\n",
       "      <th>llamado_provincia</th>\n",
       "      <th>llamado_provincia_indec_id</th>\n",
       "    </tr>\n",
       "  </thead>\n",
       "  <tbody>\n",
       "    <tr>\n",
       "      <th>0</th>\n",
       "      <td>361342</td>\n",
       "      <td>Familiar de la víctima</td>\n",
       "      <td>Femenino</td>\n",
       "      <td>No hay niñas/os</td>\n",
       "      <td>Psicológica</td>\n",
       "      <td>Sin Datos</td>\n",
       "      <td>Sin Datos</td>\n",
       "      <td>Femenino</td>\n",
       "      <td>1</td>\n",
       "      <td>1</td>\n",
       "      <td>Masculino</td>\n",
       "      <td>Espos@/compañer@ actual de la víctima</td>\n",
       "      <td>Intervención Equipos Móviles a donde se encont...</td>\n",
       "      <td>2018-01-01 01:44:31</td>\n",
       "      <td>Ciudad Autónoma de Buenos Aires</td>\n",
       "      <td>2</td>\n",
       "    </tr>\n",
       "    <tr>\n",
       "      <th>1</th>\n",
       "      <td>361343</td>\n",
       "      <td>Víctima</td>\n",
       "      <td>Femenino</td>\n",
       "      <td>No hay niñas/os</td>\n",
       "      <td>Psicológica</td>\n",
       "      <td>Sin Datos</td>\n",
       "      <td>Sin Datos</td>\n",
       "      <td>Femenino</td>\n",
       "      <td>1</td>\n",
       "      <td>1</td>\n",
       "      <td>Masculino</td>\n",
       "      <td>Hij@</td>\n",
       "      <td>No había móviles y/o Equipos para realizar la ...</td>\n",
       "      <td>2018-01-01 13:54:03</td>\n",
       "      <td>Ciudad Autónoma de Buenos Aires</td>\n",
       "      <td>2</td>\n",
       "    </tr>\n",
       "  </tbody>\n",
       "</table>\n",
       "</div>"
      ],
      "text/plain": [
       "   caso_id    llamante_descripcion llamante_genero  \\\n",
       "0   361342  Familiar de la víctima        Femenino   \n",
       "1   361343                 Víctima        Femenino   \n",
       "\n",
       "  llamante_vinculo_ninios_presentes violencia_tipo victima_edad  \\\n",
       "0                   No hay niñas/os    Psicológica    Sin Datos   \n",
       "1                   No hay niñas/os    Psicológica    Sin Datos   \n",
       "\n",
       "  victima_rango_etario victima_genero  victima_cantidad  agresor_cantidad  \\\n",
       "0            Sin Datos       Femenino                 1                 1   \n",
       "1            Sin Datos       Femenino                 1                 1   \n",
       "\n",
       "  agresor_genero               agresor_relacion_victima  \\\n",
       "0      Masculino  Espos@/compañer@ actual de la víctima   \n",
       "1      Masculino                                   Hij@   \n",
       "\n",
       "                                  llamado_derivacion   llamado_fecha_hora  \\\n",
       "0  Intervención Equipos Móviles a donde se encont...  2018-01-01 01:44:31   \n",
       "1  No había móviles y/o Equipos para realizar la ...  2018-01-01 13:54:03   \n",
       "\n",
       "                 llamado_provincia  llamado_provincia_indec_id  \n",
       "0  Ciudad Autónoma de Buenos Aires                           2  \n",
       "1  Ciudad Autónoma de Buenos Aires                           2  "
      ]
     },
     "execution_count": 12,
     "metadata": {},
     "output_type": "execute_result"
    }
   ],
   "source": [
    "lavf18.head(2)"
   ]
  },
  {
   "cell_type": "markdown",
   "metadata": {},
   "source": [
    "# 2019"
   ]
  },
  {
   "cell_type": "code",
   "execution_count": 13,
   "metadata": {},
   "outputs": [
    {
     "data": {
      "text/plain": [
       "array(['Ciudad Autónoma de Buenos Aires'], dtype=object)"
      ]
     },
     "execution_count": 13,
     "metadata": {},
     "output_type": "execute_result"
    }
   ],
   "source": [
    "#Concatenamos data sets 2019\n",
    "\n",
    "#La última columna tiene nombre distinto. llamado_provincia_indec_id =! llamado_provincia_id\n",
    "\n",
    "    #lavf1901 = \tllamado_provincia_indec_id\n",
    "    #lavf1901 = \tllamado_provincia_id\n",
    "    #lavf1901 = \tllamado_provincia_id\n",
    "    \n",
    "# Corroboramos la relación entre la columa \"llamado provincia\" con los llamado_provincia_indec_id y llamado_provincia_id\n",
    "\n",
    "lavf1903.llamado_provincia.unique()\n",
    "\n",
    "#Para los tres trimestres solo hay registros en CABA.\n"
   ]
  },
  {
   "cell_type": "code",
   "execution_count": null,
   "metadata": {},
   "outputs": [],
   "source": []
  },
  {
   "cell_type": "code",
   "execution_count": 14,
   "metadata": {},
   "outputs": [
    {
     "data": {
      "text/plain": [
       "(5478, 16)"
      ]
     },
     "execution_count": 14,
     "metadata": {},
     "output_type": "execute_result"
    }
   ],
   "source": [
    "#cambiamos la columna a llamado_provincia_indec_id para que coincida con 2018 y 2017\n",
    "\n",
    "lavf19 = pd.concat([lavf1902,lavf1903], axis = 0,  join = \"outer\" , ignore_index = False)\n",
    "\n",
    "lavf19.columns = ['caso_id', 'llamante_descripcion', 'llamante_genero',\n",
    "        'llamante_vinculo_ninios_presentes', 'violencia_tipo', 'victima_edad',\n",
    "       'victima_rango_etario', 'victima_genero', 'victima_cantidad',\n",
    "      'agresor_cantidad', 'agresor_genero', 'agresor_relacion_victima',\n",
    "     'llamado_derivacion', 'llamado_fecha_hora', 'llamado_provincia',\n",
    "    'llamado_provincia_indec_id']\n",
    "\n",
    "lavf19 = pd.concat([lavf1901,lavf19], axis = 0,  join = \"outer\" , ignore_index = False)\n",
    "\n",
    "lavf19.shape\n"
   ]
  },
  {
   "cell_type": "code",
   "execution_count": 15,
   "metadata": {},
   "outputs": [
    {
     "data": {
      "text/html": [
       "<div>\n",
       "<style scoped>\n",
       "    .dataframe tbody tr th:only-of-type {\n",
       "        vertical-align: middle;\n",
       "    }\n",
       "\n",
       "    .dataframe tbody tr th {\n",
       "        vertical-align: top;\n",
       "    }\n",
       "\n",
       "    .dataframe thead th {\n",
       "        text-align: right;\n",
       "    }\n",
       "</style>\n",
       "<table border=\"1\" class=\"dataframe\">\n",
       "  <thead>\n",
       "    <tr style=\"text-align: right;\">\n",
       "      <th></th>\n",
       "      <th>caso_id</th>\n",
       "      <th>llamante_descripcion</th>\n",
       "      <th>llamante_genero</th>\n",
       "      <th>llamante_vinculo_ninios_presentes</th>\n",
       "      <th>violencia_tipo</th>\n",
       "      <th>victima_edad</th>\n",
       "      <th>victima_rango_etario</th>\n",
       "      <th>victima_genero</th>\n",
       "      <th>victima_cantidad</th>\n",
       "      <th>agresor_cantidad</th>\n",
       "      <th>agresor_genero</th>\n",
       "      <th>agresor_relacion_victima</th>\n",
       "      <th>llamado_derivacion</th>\n",
       "      <th>llamado_fecha_hora</th>\n",
       "      <th>llamado_provincia</th>\n",
       "      <th>llamado_provincia_indec_id</th>\n",
       "    </tr>\n",
       "  </thead>\n",
       "  <tbody>\n",
       "    <tr>\n",
       "      <th>0</th>\n",
       "      <td>414182</td>\n",
       "      <td>Víctima</td>\n",
       "      <td>Femenino</td>\n",
       "      <td>Padre</td>\n",
       "      <td>Física</td>\n",
       "      <td>22</td>\n",
       "      <td>18 a 29 años</td>\n",
       "      <td>Femenino</td>\n",
       "      <td>5</td>\n",
       "      <td>2</td>\n",
       "      <td>Masculino</td>\n",
       "      <td>Espos@/compañer@ actual</td>\n",
       "      <td>No había móviles y/o Equipos para realizar la ...</td>\n",
       "      <td>2019-03-31 22:49:00</td>\n",
       "      <td>Ciudad Autónoma de Buenos Aires</td>\n",
       "      <td>2</td>\n",
       "    </tr>\n",
       "    <tr>\n",
       "      <th>1</th>\n",
       "      <td>414181</td>\n",
       "      <td>Vecina/o de la víctima</td>\n",
       "      <td>Femenino</td>\n",
       "      <td>Otro no familiar</td>\n",
       "      <td>Psicológica</td>\n",
       "      <td>10</td>\n",
       "      <td>6 a 11 años</td>\n",
       "      <td>Masculino</td>\n",
       "      <td>1</td>\n",
       "      <td>1</td>\n",
       "      <td>Femenino</td>\n",
       "      <td>Madre</td>\n",
       "      <td>No intervino equipo móvil por tratarse de un c...</td>\n",
       "      <td>2019-03-31 21:37:12</td>\n",
       "      <td>Ciudad Autónoma de Buenos Aires</td>\n",
       "      <td>2</td>\n",
       "    </tr>\n",
       "  </tbody>\n",
       "</table>\n",
       "</div>"
      ],
      "text/plain": [
       "   caso_id    llamante_descripcion llamante_genero  \\\n",
       "0   414182                 Víctima        Femenino   \n",
       "1   414181  Vecina/o de la víctima        Femenino   \n",
       "\n",
       "  llamante_vinculo_ninios_presentes violencia_tipo victima_edad  \\\n",
       "0                             Padre         Física           22   \n",
       "1                  Otro no familiar    Psicológica           10   \n",
       "\n",
       "  victima_rango_etario victima_genero  victima_cantidad  agresor_cantidad  \\\n",
       "0         18 a 29 años       Femenino                 5                 2   \n",
       "1          6 a 11 años      Masculino                 1                 1   \n",
       "\n",
       "  agresor_genero agresor_relacion_victima  \\\n",
       "0      Masculino  Espos@/compañer@ actual   \n",
       "1       Femenino                    Madre   \n",
       "\n",
       "                                  llamado_derivacion   llamado_fecha_hora  \\\n",
       "0  No había móviles y/o Equipos para realizar la ...  2019-03-31 22:49:00   \n",
       "1  No intervino equipo móvil por tratarse de un c...  2019-03-31 21:37:12   \n",
       "\n",
       "                 llamado_provincia  llamado_provincia_indec_id  \n",
       "0  Ciudad Autónoma de Buenos Aires                           2  \n",
       "1  Ciudad Autónoma de Buenos Aires                           2  "
      ]
     },
     "execution_count": 15,
     "metadata": {},
     "output_type": "execute_result"
    }
   ],
   "source": [
    "lavf19.head(2)"
   ]
  },
  {
   "cell_type": "markdown",
   "metadata": {},
   "source": [
    "# concatenamos en 1 data set"
   ]
  },
  {
   "cell_type": "code",
   "execution_count": 16,
   "metadata": {},
   "outputs": [
    {
     "data": {
      "text/html": [
       "<div>\n",
       "<style scoped>\n",
       "    .dataframe tbody tr th:only-of-type {\n",
       "        vertical-align: middle;\n",
       "    }\n",
       "\n",
       "    .dataframe tbody tr th {\n",
       "        vertical-align: top;\n",
       "    }\n",
       "\n",
       "    .dataframe thead th {\n",
       "        text-align: right;\n",
       "    }\n",
       "</style>\n",
       "<table border=\"1\" class=\"dataframe\">\n",
       "  <thead>\n",
       "    <tr style=\"text-align: right;\">\n",
       "      <th></th>\n",
       "      <th>caso_id</th>\n",
       "      <th>llamante_descripcion</th>\n",
       "      <th>llamante_genero</th>\n",
       "      <th>llamante_vinculo_ninios_presentes</th>\n",
       "      <th>violencia_tipo</th>\n",
       "      <th>victima_edad</th>\n",
       "      <th>victima_rango_etario</th>\n",
       "      <th>victima_genero</th>\n",
       "      <th>victima_cantidad</th>\n",
       "      <th>agresor_cantidad</th>\n",
       "      <th>agresor_genero</th>\n",
       "      <th>agresor_relacion_victima</th>\n",
       "      <th>llamado_derivacion</th>\n",
       "      <th>llamado_fecha_hora</th>\n",
       "      <th>llamado_provincia</th>\n",
       "      <th>llamado_provincia_indec_id</th>\n",
       "    </tr>\n",
       "  </thead>\n",
       "  <tbody>\n",
       "    <tr>\n",
       "      <th>0</th>\n",
       "      <td>344552</td>\n",
       "      <td>Comisaría</td>\n",
       "      <td>Masculino</td>\n",
       "      <td>Otro no familiar</td>\n",
       "      <td>Física</td>\n",
       "      <td>27</td>\n",
       "      <td>18 a 29 años</td>\n",
       "      <td>Femenino</td>\n",
       "      <td>3</td>\n",
       "      <td>1.0</td>\n",
       "      <td>Masculino</td>\n",
       "      <td>Espos@/compañer@ actual de la víctima</td>\n",
       "      <td>La víctima no aceptó la intervención de Equipo...</td>\n",
       "      <td>2017-01-01 01:37:54</td>\n",
       "      <td>Ciudad Autónoma de Buenos Aires</td>\n",
       "      <td>2</td>\n",
       "    </tr>\n",
       "    <tr>\n",
       "      <th>1</th>\n",
       "      <td>344553</td>\n",
       "      <td>Comisaría</td>\n",
       "      <td>Femenino</td>\n",
       "      <td>Sin datos</td>\n",
       "      <td>Física</td>\n",
       "      <td>Sin Datos</td>\n",
       "      <td>Sin Datos</td>\n",
       "      <td>Femenino</td>\n",
       "      <td>2</td>\n",
       "      <td>1.0</td>\n",
       "      <td>Masculino</td>\n",
       "      <td>Herman@ de la victima</td>\n",
       "      <td>Llamante solicitó información y/o orientación</td>\n",
       "      <td>2017-01-01 06:42:25</td>\n",
       "      <td>Ciudad Autónoma de Buenos Aires</td>\n",
       "      <td>2</td>\n",
       "    </tr>\n",
       "  </tbody>\n",
       "</table>\n",
       "</div>"
      ],
      "text/plain": [
       "   caso_id llamante_descripcion llamante_genero  \\\n",
       "0   344552            Comisaría       Masculino   \n",
       "1   344553            Comisaría        Femenino   \n",
       "\n",
       "  llamante_vinculo_ninios_presentes violencia_tipo victima_edad  \\\n",
       "0                  Otro no familiar         Física           27   \n",
       "1                         Sin datos         Física    Sin Datos   \n",
       "\n",
       "  victima_rango_etario victima_genero victima_cantidad  agresor_cantidad  \\\n",
       "0         18 a 29 años       Femenino                3               1.0   \n",
       "1            Sin Datos       Femenino                2               1.0   \n",
       "\n",
       "  agresor_genero               agresor_relacion_victima  \\\n",
       "0      Masculino  Espos@/compañer@ actual de la víctima   \n",
       "1      Masculino                  Herman@ de la victima   \n",
       "\n",
       "                                  llamado_derivacion   llamado_fecha_hora  \\\n",
       "0  La víctima no aceptó la intervención de Equipo...  2017-01-01 01:37:54   \n",
       "1      Llamante solicitó información y/o orientación  2017-01-01 06:42:25   \n",
       "\n",
       "                 llamado_provincia  llamado_provincia_indec_id  \n",
       "0  Ciudad Autónoma de Buenos Aires                           2  \n",
       "1  Ciudad Autónoma de Buenos Aires                           2  "
      ]
     },
     "execution_count": 16,
     "metadata": {},
     "output_type": "execute_result"
    }
   ],
   "source": [
    "#Concatenamos los 3 años\n",
    "\n",
    "lavf_all = pd.concat([lavf17,lavf18,lavf19], axis = 0,  join = \"outer\" , ignore_index = False)\n",
    "lavf_all.head(2)"
   ]
  },
  {
   "cell_type": "code",
   "execution_count": 25,
   "metadata": {
    "scrolled": false
   },
   "outputs": [
    {
     "data": {
      "text/plain": [
       "(22722, 16)"
      ]
     },
     "execution_count": 25,
     "metadata": {},
     "output_type": "execute_result"
    }
   ],
   "source": [
    "#Verificamos cantidad de datos\n",
    "lavf_all.shape\n"
   ]
  },
  {
   "cell_type": "code",
   "execution_count": 23,
   "metadata": {},
   "outputs": [
    {
     "data": {
      "text/html": [
       "<div>\n",
       "<style scoped>\n",
       "    .dataframe tbody tr th:only-of-type {\n",
       "        vertical-align: middle;\n",
       "    }\n",
       "\n",
       "    .dataframe tbody tr th {\n",
       "        vertical-align: top;\n",
       "    }\n",
       "\n",
       "    .dataframe thead th {\n",
       "        text-align: right;\n",
       "    }\n",
       "</style>\n",
       "<table border=\"1\" class=\"dataframe\">\n",
       "  <thead>\n",
       "    <tr style=\"text-align: right;\">\n",
       "      <th></th>\n",
       "      <th>Total</th>\n",
       "      <th>Percent</th>\n",
       "    </tr>\n",
       "  </thead>\n",
       "  <tbody>\n",
       "    <tr>\n",
       "      <th>violencia_tipo</th>\n",
       "      <td>54</td>\n",
       "      <td>0.002306</td>\n",
       "    </tr>\n",
       "    <tr>\n",
       "      <th>agresor_cantidad</th>\n",
       "      <td>2</td>\n",
       "      <td>0.000085</td>\n",
       "    </tr>\n",
       "    <tr>\n",
       "      <th>victima_rango_etario</th>\n",
       "      <td>1</td>\n",
       "      <td>0.000043</td>\n",
       "    </tr>\n",
       "    <tr>\n",
       "      <th>llamado_provincia_indec_id</th>\n",
       "      <td>0</td>\n",
       "      <td>0.000000</td>\n",
       "    </tr>\n",
       "    <tr>\n",
       "      <th>llamado_provincia</th>\n",
       "      <td>0</td>\n",
       "      <td>0.000000</td>\n",
       "    </tr>\n",
       "    <tr>\n",
       "      <th>llamado_fecha_hora</th>\n",
       "      <td>0</td>\n",
       "      <td>0.000000</td>\n",
       "    </tr>\n",
       "    <tr>\n",
       "      <th>llamado_derivacion</th>\n",
       "      <td>0</td>\n",
       "      <td>0.000000</td>\n",
       "    </tr>\n",
       "    <tr>\n",
       "      <th>agresor_relacion_victima</th>\n",
       "      <td>0</td>\n",
       "      <td>0.000000</td>\n",
       "    </tr>\n",
       "    <tr>\n",
       "      <th>agresor_genero</th>\n",
       "      <td>0</td>\n",
       "      <td>0.000000</td>\n",
       "    </tr>\n",
       "    <tr>\n",
       "      <th>victima_cantidad</th>\n",
       "      <td>0</td>\n",
       "      <td>0.000000</td>\n",
       "    </tr>\n",
       "    <tr>\n",
       "      <th>victima_genero</th>\n",
       "      <td>0</td>\n",
       "      <td>0.000000</td>\n",
       "    </tr>\n",
       "    <tr>\n",
       "      <th>victima_edad</th>\n",
       "      <td>0</td>\n",
       "      <td>0.000000</td>\n",
       "    </tr>\n",
       "    <tr>\n",
       "      <th>llamante_vinculo_ninios_presentes</th>\n",
       "      <td>0</td>\n",
       "      <td>0.000000</td>\n",
       "    </tr>\n",
       "    <tr>\n",
       "      <th>llamante_genero</th>\n",
       "      <td>0</td>\n",
       "      <td>0.000000</td>\n",
       "    </tr>\n",
       "    <tr>\n",
       "      <th>llamante_descripcion</th>\n",
       "      <td>0</td>\n",
       "      <td>0.000000</td>\n",
       "    </tr>\n",
       "    <tr>\n",
       "      <th>caso_id</th>\n",
       "      <td>0</td>\n",
       "      <td>0.000000</td>\n",
       "    </tr>\n",
       "  </tbody>\n",
       "</table>\n",
       "</div>"
      ],
      "text/plain": [
       "                                   Total   Percent\n",
       "violencia_tipo                        54  0.002306\n",
       "agresor_cantidad                       2  0.000085\n",
       "victima_rango_etario                   1  0.000043\n",
       "llamado_provincia_indec_id             0  0.000000\n",
       "llamado_provincia                      0  0.000000\n",
       "llamado_fecha_hora                     0  0.000000\n",
       "llamado_derivacion                     0  0.000000\n",
       "agresor_relacion_victima               0  0.000000\n",
       "agresor_genero                         0  0.000000\n",
       "victima_cantidad                       0  0.000000\n",
       "victima_genero                         0  0.000000\n",
       "victima_edad                           0  0.000000\n",
       "llamante_vinculo_ninios_presentes      0  0.000000\n",
       "llamante_genero                        0  0.000000\n",
       "llamante_descripcion                   0  0.000000\n",
       "caso_id                                0  0.000000"
      ]
     },
     "execution_count": 23,
     "metadata": {},
     "output_type": "execute_result"
    }
   ],
   "source": [
    "#Verificamos nulos\n",
    "\n",
    "total = lavf_all.isnull().sum().sort_values(ascending=False)\n",
    "percent = (lavf_all.isnull().sum()/lavf_all.isnull().count()).sort_values(ascending=False)\n",
    "missing_data = pd.concat([total, percent], axis=1, keys=['Total', 'Percent'])\n",
    "missing_data.head(30)"
   ]
  },
  {
   "cell_type": "code",
   "execution_count": 26,
   "metadata": {},
   "outputs": [
    {
     "data": {
      "text/plain": [
       "0"
      ]
     },
     "execution_count": 26,
     "metadata": {},
     "output_type": "execute_result"
    }
   ],
   "source": [
    "#Quitamos los registros Null/NaN\n",
    "\n",
    "lavf_all = lavf_all.drop(lavf_all.loc[lavf_all['violencia_tipo'].isnull()].index)\n",
    "lavf_all = lavf_all.drop(lavf_all.loc[lavf_all['agresor_cantidad'].isnull()].index)\n",
    "lavf_all = lavf_all.drop(lavf_all.loc[lavf_all['victima_rango_etario'].isnull()].index)\n",
    "\n",
    "#Verificamos\n",
    "\n",
    "lavf_all.isnull().sum().max()"
   ]
  },
  {
   "cell_type": "code",
   "execution_count": null,
   "metadata": {},
   "outputs": [],
   "source": []
  },
  {
   "cell_type": "code",
   "execution_count": null,
   "metadata": {},
   "outputs": [],
   "source": []
  },
  {
   "cell_type": "code",
   "execution_count": null,
   "metadata": {},
   "outputs": [],
   "source": []
  }
 ],
 "metadata": {
  "kernelspec": {
   "display_name": "Python 3",
   "language": "python",
   "name": "python3"
  },
  "language_info": {
   "codemirror_mode": {
    "name": "ipython",
    "version": 3
   },
   "file_extension": ".py",
   "mimetype": "text/x-python",
   "name": "python",
   "nbconvert_exporter": "python",
   "pygments_lexer": "ipython3",
   "version": "3.7.3"
  }
 },
 "nbformat": 4,
 "nbformat_minor": 2
}
